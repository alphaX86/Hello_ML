{
  "nbformat": 4,
  "nbformat_minor": 0,
  "metadata": {
    "colab": {
      "name": "SimpleNN.ipynb",
      "provenance": [],
      "authorship_tag": "ABX9TyOiXx0eaUxIqw0SDx4Zu2Zw",
      "include_colab_link": true
    },
    "kernelspec": {
      "name": "python3",
      "display_name": "Python 3"
    }
  },
  "cells": [
    {
      "cell_type": "markdown",
      "metadata": {
        "id": "view-in-github",
        "colab_type": "text"
      },
      "source": [
        "<a href=\"https://colab.research.google.com/github/echo-864/Hello_ML/blob/master/SimpleNN.ipynb\" target=\"_parent\"><img src=\"https://colab.research.google.com/assets/colab-badge.svg\" alt=\"Open In Colab\"/></a>"
      ]
    },
    {
      "cell_type": "code",
      "metadata": {
        "id": "H2hHvYOnfVtR",
        "colab_type": "code",
        "colab": {}
      },
      "source": [
        "import numpy as np\n",
        "import tensorflow as tf\n",
        "from tensorflow import keras"
      ],
      "execution_count": 0,
      "outputs": []
    },
    {
      "cell_type": "code",
      "metadata": {
        "id": "YnHXeD8HfjUb",
        "colab_type": "code",
        "colab": {}
      },
      "source": [
        "model = tf.keras.Sequential([keras.layers.Dense(units=1,input_shape=[1])])"
      ],
      "execution_count": 0,
      "outputs": []
    },
    {
      "cell_type": "code",
      "metadata": {
        "id": "_d8d162rgKqg",
        "colab_type": "code",
        "colab": {}
      },
      "source": [
        "model.compile(optimizer='sgd', loss='mean_squared_error')"
      ],
      "execution_count": 0,
      "outputs": []
    },
    {
      "cell_type": "code",
      "metadata": {
        "id": "la0erT4FgZv_",
        "colab_type": "code",
        "colab": {}
      },
      "source": [
        "x = np.array([-1.0, 0.0, 1.0, 2.0, 3.0, 4.0], dtype='float')\n",
        "y = np.array([-2.0, 1.0, 4.0, 7.0, 10.0, 13.0], dtype='float')"
      ],
      "execution_count": 0,
      "outputs": []
    },
    {
      "cell_type": "code",
      "metadata": {
        "id": "kcpZB18ug3w2",
        "colab_type": "code",
        "colab": {
          "base_uri": "https://localhost:8080/",
          "height": 544
        },
        "outputId": "f2a29bae-4108-4442-f917-c4e23dddd3cd"
      },
      "source": [
        "model.fit(x,y,epochs=15)"
      ],
      "execution_count": 7,
      "outputs": [
        {
          "output_type": "stream",
          "text": [
            "Epoch 1/15\n",
            "1/1 [==============================] - 0s 1ms/step - loss: 110.3088\n",
            "Epoch 2/15\n",
            "1/1 [==============================] - 0s 2ms/step - loss: 86.7995\n",
            "Epoch 3/15\n",
            "1/1 [==============================] - 0s 1ms/step - loss: 68.3033\n",
            "Epoch 4/15\n",
            "1/1 [==============================] - 0s 3ms/step - loss: 53.7511\n",
            "Epoch 5/15\n",
            "1/1 [==============================] - 0s 1ms/step - loss: 42.3018\n",
            "Epoch 6/15\n",
            "1/1 [==============================] - 0s 1ms/step - loss: 33.2938\n",
            "Epoch 7/15\n",
            "1/1 [==============================] - 0s 2ms/step - loss: 26.2065\n",
            "Epoch 8/15\n",
            "1/1 [==============================] - 0s 2ms/step - loss: 20.6303\n",
            "Epoch 9/15\n",
            "1/1 [==============================] - 0s 2ms/step - loss: 16.2430\n",
            "Epoch 10/15\n",
            "1/1 [==============================] - 0s 2ms/step - loss: 12.7910\n",
            "Epoch 11/15\n",
            "1/1 [==============================] - 0s 2ms/step - loss: 10.0748\n",
            "Epoch 12/15\n",
            "1/1 [==============================] - 0s 2ms/step - loss: 7.9377\n",
            "Epoch 13/15\n",
            "1/1 [==============================] - 0s 2ms/step - loss: 6.2561\n",
            "Epoch 14/15\n",
            "1/1 [==============================] - 0s 2ms/step - loss: 4.9328\n",
            "Epoch 15/15\n",
            "1/1 [==============================] - 0s 1ms/step - loss: 3.8915\n"
          ],
          "name": "stdout"
        },
        {
          "output_type": "execute_result",
          "data": {
            "text/plain": [
              "<tensorflow.python.keras.callbacks.History at 0x7f44fd0904e0>"
            ]
          },
          "metadata": {
            "tags": []
          },
          "execution_count": 7
        }
      ]
    },
    {
      "cell_type": "code",
      "metadata": {
        "id": "Onzemv_5hBES",
        "colab_type": "code",
        "colab": {
          "base_uri": "https://localhost:8080/",
          "height": 34
        },
        "outputId": "7c363f1d-e3e6-4dfd-eaff-fdaf2fa9673e"
      },
      "source": [
        "z = model.predict([10.0])\n",
        "print(z)"
      ],
      "execution_count": 8,
      "outputs": [
        {
          "output_type": "stream",
          "text": [
            "[[23.140953]]\n"
          ],
          "name": "stdout"
        }
      ]
    }
  ]
}